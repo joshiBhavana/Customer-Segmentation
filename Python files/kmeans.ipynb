{
 "cells": [
  {
   "cell_type": "code",
   "execution_count": 2,
   "id": "e9a6c3e4-aa93-4c73-8487-d0743b8d1ec2",
   "metadata": {},
   "outputs": [],
   "source": [
    "#Importing the necessary libraries\n",
    "import numpy as np\n",
    "import pandas as pd\n",
    "import matplotlib.pyplot as plt\n",
    "import seaborn as sns\n",
    "from mpl_toolkits.mplot3d import Axes3D\n",
    "%matplotlib inline"
   ]
  },
  {
   "cell_type": "code",
   "execution_count": 254,
   "id": "63b8fb1c-cd99-46f4-a9ae-838ca1e9df9f",
   "metadata": {},
   "outputs": [],
   "source": [
    "data = pd.read_csv(\"C:\\\\Users\\\\joshi\\\\Mall-Customers-Segmentation\\\\Dataset\\\\Mall_Customers.csv\")"
   ]
  },
  {
   "cell_type": "code",
   "execution_count": 256,
   "id": "48265b92-fb28-4c47-8585-9469ad352ace",
   "metadata": {},
   "outputs": [
    {
     "data": {
      "text/html": [
       "<div>\n",
       "<style scoped>\n",
       "    .dataframe tbody tr th:only-of-type {\n",
       "        vertical-align: middle;\n",
       "    }\n",
       "\n",
       "    .dataframe tbody tr th {\n",
       "        vertical-align: top;\n",
       "    }\n",
       "\n",
       "    .dataframe thead th {\n",
       "        text-align: right;\n",
       "    }\n",
       "</style>\n",
       "<table border=\"1\" class=\"dataframe\">\n",
       "  <thead>\n",
       "    <tr style=\"text-align: right;\">\n",
       "      <th></th>\n",
       "      <th>CustomerID</th>\n",
       "      <th>Gender</th>\n",
       "      <th>Age</th>\n",
       "      <th>Annual Income (k$)</th>\n",
       "      <th>Spending Score (1-100)</th>\n",
       "    </tr>\n",
       "  </thead>\n",
       "  <tbody>\n",
       "    <tr>\n",
       "      <th>0</th>\n",
       "      <td>1</td>\n",
       "      <td>Male</td>\n",
       "      <td>19</td>\n",
       "      <td>15</td>\n",
       "      <td>39</td>\n",
       "    </tr>\n",
       "    <tr>\n",
       "      <th>1</th>\n",
       "      <td>2</td>\n",
       "      <td>Male</td>\n",
       "      <td>21</td>\n",
       "      <td>15</td>\n",
       "      <td>81</td>\n",
       "    </tr>\n",
       "    <tr>\n",
       "      <th>2</th>\n",
       "      <td>3</td>\n",
       "      <td>Female</td>\n",
       "      <td>20</td>\n",
       "      <td>16</td>\n",
       "      <td>6</td>\n",
       "    </tr>\n",
       "    <tr>\n",
       "      <th>3</th>\n",
       "      <td>4</td>\n",
       "      <td>Female</td>\n",
       "      <td>23</td>\n",
       "      <td>16</td>\n",
       "      <td>77</td>\n",
       "    </tr>\n",
       "    <tr>\n",
       "      <th>4</th>\n",
       "      <td>5</td>\n",
       "      <td>Female</td>\n",
       "      <td>31</td>\n",
       "      <td>17</td>\n",
       "      <td>40</td>\n",
       "    </tr>\n",
       "  </tbody>\n",
       "</table>\n",
       "</div>"
      ],
      "text/plain": [
       "   CustomerID  Gender  Age  Annual Income (k$)  Spending Score (1-100)\n",
       "0           1    Male   19                  15                      39\n",
       "1           2    Male   21                  15                      81\n",
       "2           3  Female   20                  16                       6\n",
       "3           4  Female   23                  16                      77\n",
       "4           5  Female   31                  17                      40"
      ]
     },
     "execution_count": 256,
     "metadata": {},
     "output_type": "execute_result"
    }
   ],
   "source": [
    "data.head()"
   ]
  },
  {
   "cell_type": "code",
   "execution_count": 258,
   "id": "fff17a02-4b9c-4fc1-8fa0-1d988d723c58",
   "metadata": {},
   "outputs": [
    {
     "data": {
      "text/plain": [
       "(200, 5)"
      ]
     },
     "execution_count": 258,
     "metadata": {},
     "output_type": "execute_result"
    }
   ],
   "source": [
    "data.shape"
   ]
  },
  {
   "cell_type": "code",
   "execution_count": 260,
   "id": "a54c89f2-fd7a-4596-9465-f79ec70253f3",
   "metadata": {},
   "outputs": [
    {
     "name": "stdout",
     "output_type": "stream",
     "text": [
      "<class 'pandas.core.frame.DataFrame'>\n",
      "RangeIndex: 200 entries, 0 to 199\n",
      "Data columns (total 5 columns):\n",
      " #   Column                  Non-Null Count  Dtype \n",
      "---  ------                  --------------  ----- \n",
      " 0   CustomerID              200 non-null    int64 \n",
      " 1   Gender                  200 non-null    object\n",
      " 2   Age                     200 non-null    int64 \n",
      " 3   Annual Income (k$)      200 non-null    int64 \n",
      " 4   Spending Score (1-100)  200 non-null    int64 \n",
      "dtypes: int64(4), object(1)\n",
      "memory usage: 7.9+ KB\n"
     ]
    }
   ],
   "source": [
    "data.info()"
   ]
  },
  {
   "cell_type": "code",
   "execution_count": 262,
   "id": "991a02af-9ef8-4256-92cc-1fa95b2f7c70",
   "metadata": {},
   "outputs": [
    {
     "data": {
      "text/html": [
       "<div>\n",
       "<style scoped>\n",
       "    .dataframe tbody tr th:only-of-type {\n",
       "        vertical-align: middle;\n",
       "    }\n",
       "\n",
       "    .dataframe tbody tr th {\n",
       "        vertical-align: top;\n",
       "    }\n",
       "\n",
       "    .dataframe thead th {\n",
       "        text-align: right;\n",
       "    }\n",
       "</style>\n",
       "<table border=\"1\" class=\"dataframe\">\n",
       "  <thead>\n",
       "    <tr style=\"text-align: right;\">\n",
       "      <th></th>\n",
       "      <th>CustomerID</th>\n",
       "      <th>Age</th>\n",
       "      <th>Annual Income (k$)</th>\n",
       "      <th>Spending Score (1-100)</th>\n",
       "    </tr>\n",
       "  </thead>\n",
       "  <tbody>\n",
       "    <tr>\n",
       "      <th>count</th>\n",
       "      <td>200.000000</td>\n",
       "      <td>200.000000</td>\n",
       "      <td>200.000000</td>\n",
       "      <td>200.000000</td>\n",
       "    </tr>\n",
       "    <tr>\n",
       "      <th>mean</th>\n",
       "      <td>100.500000</td>\n",
       "      <td>38.850000</td>\n",
       "      <td>60.560000</td>\n",
       "      <td>50.200000</td>\n",
       "    </tr>\n",
       "    <tr>\n",
       "      <th>std</th>\n",
       "      <td>57.879185</td>\n",
       "      <td>13.969007</td>\n",
       "      <td>26.264721</td>\n",
       "      <td>25.823522</td>\n",
       "    </tr>\n",
       "    <tr>\n",
       "      <th>min</th>\n",
       "      <td>1.000000</td>\n",
       "      <td>18.000000</td>\n",
       "      <td>15.000000</td>\n",
       "      <td>1.000000</td>\n",
       "    </tr>\n",
       "    <tr>\n",
       "      <th>25%</th>\n",
       "      <td>50.750000</td>\n",
       "      <td>28.750000</td>\n",
       "      <td>41.500000</td>\n",
       "      <td>34.750000</td>\n",
       "    </tr>\n",
       "    <tr>\n",
       "      <th>50%</th>\n",
       "      <td>100.500000</td>\n",
       "      <td>36.000000</td>\n",
       "      <td>61.500000</td>\n",
       "      <td>50.000000</td>\n",
       "    </tr>\n",
       "    <tr>\n",
       "      <th>75%</th>\n",
       "      <td>150.250000</td>\n",
       "      <td>49.000000</td>\n",
       "      <td>78.000000</td>\n",
       "      <td>73.000000</td>\n",
       "    </tr>\n",
       "    <tr>\n",
       "      <th>max</th>\n",
       "      <td>200.000000</td>\n",
       "      <td>70.000000</td>\n",
       "      <td>137.000000</td>\n",
       "      <td>99.000000</td>\n",
       "    </tr>\n",
       "  </tbody>\n",
       "</table>\n",
       "</div>"
      ],
      "text/plain": [
       "       CustomerID         Age  Annual Income (k$)  Spending Score (1-100)\n",
       "count  200.000000  200.000000          200.000000              200.000000\n",
       "mean   100.500000   38.850000           60.560000               50.200000\n",
       "std     57.879185   13.969007           26.264721               25.823522\n",
       "min      1.000000   18.000000           15.000000                1.000000\n",
       "25%     50.750000   28.750000           41.500000               34.750000\n",
       "50%    100.500000   36.000000           61.500000               50.000000\n",
       "75%    150.250000   49.000000           78.000000               73.000000\n",
       "max    200.000000   70.000000          137.000000               99.000000"
      ]
     },
     "execution_count": 262,
     "metadata": {},
     "output_type": "execute_result"
    }
   ],
   "source": [
    "data.describe()"
   ]
  },
  {
   "cell_type": "code",
   "execution_count": 264,
   "id": "0cdf1812-cc89-44f6-9a14-2c38b828a71c",
   "metadata": {},
   "outputs": [
    {
     "name": "stdout",
     "output_type": "stream",
     "text": [
      "Missing Values per Column:\n",
      "CustomerID                0\n",
      "Gender                    0\n",
      "Age                       0\n",
      "Annual Income (k$)        0\n",
      "Spending Score (1-100)    0\n",
      "dtype: int64\n"
     ]
    }
   ],
   "source": [
    "# Check for missing values (null values)\n",
    "missing_values = data.isnull().sum()\n",
    "print(\"Missing Values per Column:\")\n",
    "print(missing_values)"
   ]
  },
  {
   "cell_type": "code",
   "execution_count": 266,
   "id": "e7a57e30-146d-4b2b-b02a-e562256c6981",
   "metadata": {},
   "outputs": [],
   "source": [
    "X1 = data.iloc[:, [3,4]].values "
   ]
  },
  {
   "cell_type": "code",
   "execution_count": 268,
   "id": "f164e04a-5d0d-46b2-82b3-8cea1ea4372a",
   "metadata": {},
   "outputs": [
    {
     "data": {
      "text/plain": [
       "array([[ 15,  39],\n",
       "       [ 15,  81],\n",
       "       [ 16,   6],\n",
       "       [ 16,  77],\n",
       "       [ 17,  40],\n",
       "       [ 17,  76],\n",
       "       [ 18,   6],\n",
       "       [ 18,  94],\n",
       "       [ 19,   3],\n",
       "       [ 19,  72],\n",
       "       [ 19,  14],\n",
       "       [ 19,  99],\n",
       "       [ 20,  15],\n",
       "       [ 20,  77],\n",
       "       [ 20,  13],\n",
       "       [ 20,  79],\n",
       "       [ 21,  35],\n",
       "       [ 21,  66],\n",
       "       [ 23,  29],\n",
       "       [ 23,  98],\n",
       "       [ 24,  35],\n",
       "       [ 24,  73],\n",
       "       [ 25,   5],\n",
       "       [ 25,  73],\n",
       "       [ 28,  14],\n",
       "       [ 28,  82],\n",
       "       [ 28,  32],\n",
       "       [ 28,  61],\n",
       "       [ 29,  31],\n",
       "       [ 29,  87],\n",
       "       [ 30,   4],\n",
       "       [ 30,  73],\n",
       "       [ 33,   4],\n",
       "       [ 33,  92],\n",
       "       [ 33,  14],\n",
       "       [ 33,  81],\n",
       "       [ 34,  17],\n",
       "       [ 34,  73],\n",
       "       [ 37,  26],\n",
       "       [ 37,  75],\n",
       "       [ 38,  35],\n",
       "       [ 38,  92],\n",
       "       [ 39,  36],\n",
       "       [ 39,  61],\n",
       "       [ 39,  28],\n",
       "       [ 39,  65],\n",
       "       [ 40,  55],\n",
       "       [ 40,  47],\n",
       "       [ 40,  42],\n",
       "       [ 40,  42],\n",
       "       [ 42,  52],\n",
       "       [ 42,  60],\n",
       "       [ 43,  54],\n",
       "       [ 43,  60],\n",
       "       [ 43,  45],\n",
       "       [ 43,  41],\n",
       "       [ 44,  50],\n",
       "       [ 44,  46],\n",
       "       [ 46,  51],\n",
       "       [ 46,  46],\n",
       "       [ 46,  56],\n",
       "       [ 46,  55],\n",
       "       [ 47,  52],\n",
       "       [ 47,  59],\n",
       "       [ 48,  51],\n",
       "       [ 48,  59],\n",
       "       [ 48,  50],\n",
       "       [ 48,  48],\n",
       "       [ 48,  59],\n",
       "       [ 48,  47],\n",
       "       [ 49,  55],\n",
       "       [ 49,  42],\n",
       "       [ 50,  49],\n",
       "       [ 50,  56],\n",
       "       [ 54,  47],\n",
       "       [ 54,  54],\n",
       "       [ 54,  53],\n",
       "       [ 54,  48],\n",
       "       [ 54,  52],\n",
       "       [ 54,  42],\n",
       "       [ 54,  51],\n",
       "       [ 54,  55],\n",
       "       [ 54,  41],\n",
       "       [ 54,  44],\n",
       "       [ 54,  57],\n",
       "       [ 54,  46],\n",
       "       [ 57,  58],\n",
       "       [ 57,  55],\n",
       "       [ 58,  60],\n",
       "       [ 58,  46],\n",
       "       [ 59,  55],\n",
       "       [ 59,  41],\n",
       "       [ 60,  49],\n",
       "       [ 60,  40],\n",
       "       [ 60,  42],\n",
       "       [ 60,  52],\n",
       "       [ 60,  47],\n",
       "       [ 60,  50],\n",
       "       [ 61,  42],\n",
       "       [ 61,  49],\n",
       "       [ 62,  41],\n",
       "       [ 62,  48],\n",
       "       [ 62,  59],\n",
       "       [ 62,  55],\n",
       "       [ 62,  56],\n",
       "       [ 62,  42],\n",
       "       [ 63,  50],\n",
       "       [ 63,  46],\n",
       "       [ 63,  43],\n",
       "       [ 63,  48],\n",
       "       [ 63,  52],\n",
       "       [ 63,  54],\n",
       "       [ 64,  42],\n",
       "       [ 64,  46],\n",
       "       [ 65,  48],\n",
       "       [ 65,  50],\n",
       "       [ 65,  43],\n",
       "       [ 65,  59],\n",
       "       [ 67,  43],\n",
       "       [ 67,  57],\n",
       "       [ 67,  56],\n",
       "       [ 67,  40],\n",
       "       [ 69,  58],\n",
       "       [ 69,  91],\n",
       "       [ 70,  29],\n",
       "       [ 70,  77],\n",
       "       [ 71,  35],\n",
       "       [ 71,  95],\n",
       "       [ 71,  11],\n",
       "       [ 71,  75],\n",
       "       [ 71,   9],\n",
       "       [ 71,  75],\n",
       "       [ 72,  34],\n",
       "       [ 72,  71],\n",
       "       [ 73,   5],\n",
       "       [ 73,  88],\n",
       "       [ 73,   7],\n",
       "       [ 73,  73],\n",
       "       [ 74,  10],\n",
       "       [ 74,  72],\n",
       "       [ 75,   5],\n",
       "       [ 75,  93],\n",
       "       [ 76,  40],\n",
       "       [ 76,  87],\n",
       "       [ 77,  12],\n",
       "       [ 77,  97],\n",
       "       [ 77,  36],\n",
       "       [ 77,  74],\n",
       "       [ 78,  22],\n",
       "       [ 78,  90],\n",
       "       [ 78,  17],\n",
       "       [ 78,  88],\n",
       "       [ 78,  20],\n",
       "       [ 78,  76],\n",
       "       [ 78,  16],\n",
       "       [ 78,  89],\n",
       "       [ 78,   1],\n",
       "       [ 78,  78],\n",
       "       [ 78,   1],\n",
       "       [ 78,  73],\n",
       "       [ 79,  35],\n",
       "       [ 79,  83],\n",
       "       [ 81,   5],\n",
       "       [ 81,  93],\n",
       "       [ 85,  26],\n",
       "       [ 85,  75],\n",
       "       [ 86,  20],\n",
       "       [ 86,  95],\n",
       "       [ 87,  27],\n",
       "       [ 87,  63],\n",
       "       [ 87,  13],\n",
       "       [ 87,  75],\n",
       "       [ 87,  10],\n",
       "       [ 87,  92],\n",
       "       [ 88,  13],\n",
       "       [ 88,  86],\n",
       "       [ 88,  15],\n",
       "       [ 88,  69],\n",
       "       [ 93,  14],\n",
       "       [ 93,  90],\n",
       "       [ 97,  32],\n",
       "       [ 97,  86],\n",
       "       [ 98,  15],\n",
       "       [ 98,  88],\n",
       "       [ 99,  39],\n",
       "       [ 99,  97],\n",
       "       [101,  24],\n",
       "       [101,  68],\n",
       "       [103,  17],\n",
       "       [103,  85],\n",
       "       [103,  23],\n",
       "       [103,  69],\n",
       "       [113,   8],\n",
       "       [113,  91],\n",
       "       [120,  16],\n",
       "       [120,  79],\n",
       "       [126,  28],\n",
       "       [126,  74],\n",
       "       [137,  18],\n",
       "       [137,  83]], dtype=int64)"
      ]
     },
     "execution_count": 268,
     "metadata": {},
     "output_type": "execute_result"
    }
   ],
   "source": [
    "X1"
   ]
  },
  {
   "cell_type": "code",
   "execution_count": 270,
   "id": "b3db8332-005c-4e47-ba5f-72e697c3c08e",
   "metadata": {},
   "outputs": [
    {
     "name": "stdout",
     "output_type": "stream",
     "text": [
      "Correlation between Annual Income and Spending Score: 0.9902848094037608\n"
     ]
    }
   ],
   "source": [
    "# Calculate correlation between specific columns\n",
    "correlation = data['Annual Income (k$)'].corr(data['Spending Score (1-100)'])\n",
    "print(f\"Correlation between Annual Income and Spending Score: {correlation*100}\")"
   ]
  },
  {
   "cell_type": "code",
   "execution_count": 272,
   "id": "d716e4ae-f6e1-4ab4-b0c6-942b7680984b",
   "metadata": {},
   "outputs": [
    {
     "data": {
      "image/png": "[encoded data removed]",
      "text/plain": [
       "<Figure size 800x600 with 1 Axes>"
      ]
     },
     "metadata": {},
     "output_type": "display_data"
    }
   ],
   "source": [
    "import seaborn as sns\n",
    "import matplotlib.pyplot as plt\n",
    "\n",
    "# Example: Scatter plot between 'Annual Income' and 'Spending Score'\n",
    "plt.figure(figsize=(8, 6))\n",
    "sns.scatterplot(x=data['Annual Income (k$)'], y=data['Spending Score (1-100)'])\n",
    "plt.title('Correlation between Annual Income and Spending Score')\n",
    "plt.xlabel('Annual Income')\n",
    "plt.ylabel('Spending Score')\n",
    "plt.show()\n"
   ]
  },
  {
   "cell_type": "code",
   "execution_count": 274,
   "id": "69ebc233-f1db-40bc-8b96-060b6e2f37f7",
   "metadata": {},
   "outputs": [
    {
     "data": {
      "image/png": "[encoded data removed]",
      "text/plain": [
       "<Figure size 800x400 with 1 Axes>"
      ]
     },
     "metadata": {},
     "output_type": "display_data"
    },
    {
     "data": {
      "image/png": "[encoded data removed]",
      "text/plain": [
       "<Figure size 800x400 with 1 Axes>"
      ]
     },
     "metadata": {},
     "output_type": "display_data"
    }
   ],
   "source": [
    "# Visualize potential outliers using boxplot\n",
    "numerical_columns = data[['Annual Income (k$)', 'Spending Score (1-100)']]  # List your numerical columns here\n",
    "for col in numerical_columns:\n",
    "    plt.figure(figsize=(8, 4))\n",
    "    sns.boxplot(data[col])\n",
    "    plt.title(f\"Boxplot for {col}\")\n",
    "    plt.show()"
   ]
  },
  {
   "cell_type": "code",
   "execution_count": 276,
   "id": "ec025d6b-4452-4cf1-9f25-20135330e617",
   "metadata": {},
   "outputs": [
    {
     "name": "stdout",
     "output_type": "stream",
     "text": [
      "\n",
      "Number of outlier rows: 0\n",
      "Outlier rows:\n",
      "Empty DataFrame\n",
      "Columns: [CustomerID, Gender, Age, Annual Income (k$), Spending Score (1-100)]\n",
      "Index: []\n"
     ]
    }
   ],
   "source": [
    "from scipy.stats import zscore\n",
    "\n",
    "# Calculate the Z-scores for numerical columns to detect outliers\n",
    "numerical_data = data[['Annual Income (k$)', 'Spending Score (1-100)']]\n",
    "z_scores = zscore(numerical_data)\n",
    "\n",
    "# Identify rows where the Z-score is greater than 3 or less than -3 (typically considered outliers)\n",
    "outliers = (z_scores > 3) | (z_scores < -3)\n",
    "outliers_rows = outliers.any(axis=1)\n",
    "print(f\"\\nNumber of outlier rows: {outliers_rows.sum()}\")\n",
    "print(\"Outlier rows:\")\n",
    "print(data[outliers_rows])"
   ]
  },
  {
   "cell_type": "code",
   "execution_count": 278,
   "id": "4680f9da-b8d7-46dd-8b4a-6d20411711e7",
   "metadata": {},
   "outputs": [],
   "source": [
    "from sklearn.preprocessing import StandardScaler\n",
    "scaler = StandardScaler()\n",
    "scaled_data = scaler.fit_transform(data[['Annual Income (k$)', 'Spending Score (1-100)']])"
   ]
  },
  {
   "cell_type": "code",
   "execution_count": 280,
   "id": "3c00983a-8543-4b67-adbb-63849355a1f7",
   "metadata": {},
   "outputs": [
    {
     "name": "stdout",
     "output_type": "stream",
     "text": [
      "[[-1.73899919 -0.43480148]\n",
      " [-1.73899919  1.19570407]\n",
      " [-1.70082976 -1.71591298]\n",
      " [-1.70082976  1.04041783]\n",
      " [-1.66266033 -0.39597992]\n",
      " [-1.66266033  1.00159627]\n",
      " [-1.62449091 -1.71591298]\n",
      " [-1.62449091  1.70038436]\n",
      " [-1.58632148 -1.83237767]\n",
      " [-1.58632148  0.84631002]\n",
      " [-1.58632148 -1.4053405 ]\n",
      " [-1.58632148  1.89449216]\n",
      " [-1.54815205 -1.36651894]\n",
      " [-1.54815205  1.04041783]\n",
      " [-1.54815205 -1.44416206]\n",
      " [-1.54815205  1.11806095]\n",
      " [-1.50998262 -0.59008772]\n",
      " [-1.50998262  0.61338066]\n",
      " [-1.43364376 -0.82301709]\n",
      " [-1.43364376  1.8556706 ]\n",
      " [-1.39547433 -0.59008772]\n",
      " [-1.39547433  0.88513158]\n",
      " [-1.3573049  -1.75473454]\n",
      " [-1.3573049   0.88513158]\n",
      " [-1.24279661 -1.4053405 ]\n",
      " [-1.24279661  1.23452563]\n",
      " [-1.24279661 -0.7065524 ]\n",
      " [-1.24279661  0.41927286]\n",
      " [-1.20462718 -0.74537397]\n",
      " [-1.20462718  1.42863343]\n",
      " [-1.16645776 -1.7935561 ]\n",
      " [-1.16645776  0.88513158]\n",
      " [-1.05194947 -1.7935561 ]\n",
      " [-1.05194947  1.62274124]\n",
      " [-1.05194947 -1.4053405 ]\n",
      " [-1.05194947  1.19570407]\n",
      " [-1.01378004 -1.28887582]\n",
      " [-1.01378004  0.88513158]\n",
      " [-0.89927175 -0.93948177]\n",
      " [-0.89927175  0.96277471]\n",
      " [-0.86110232 -0.59008772]\n",
      " [-0.86110232  1.62274124]\n",
      " [-0.82293289 -0.55126616]\n",
      " [-0.82293289  0.41927286]\n",
      " [-0.82293289 -0.86183865]\n",
      " [-0.82293289  0.5745591 ]\n",
      " [-0.78476346  0.18634349]\n",
      " [-0.78476346 -0.12422899]\n",
      " [-0.78476346 -0.3183368 ]\n",
      " [-0.78476346 -0.3183368 ]\n",
      " [-0.70842461  0.06987881]\n",
      " [-0.70842461  0.38045129]\n",
      " [-0.67025518  0.14752193]\n",
      " [-0.67025518  0.38045129]\n",
      " [-0.67025518 -0.20187212]\n",
      " [-0.67025518 -0.35715836]\n",
      " [-0.63208575 -0.00776431]\n",
      " [-0.63208575 -0.16305055]\n",
      " [-0.55574689  0.03105725]\n",
      " [-0.55574689 -0.16305055]\n",
      " [-0.55574689  0.22516505]\n",
      " [-0.55574689  0.18634349]\n",
      " [-0.51757746  0.06987881]\n",
      " [-0.51757746  0.34162973]\n",
      " [-0.47940803  0.03105725]\n",
      " [-0.47940803  0.34162973]\n",
      " [-0.47940803 -0.00776431]\n",
      " [-0.47940803 -0.08540743]\n",
      " [-0.47940803  0.34162973]\n",
      " [-0.47940803 -0.12422899]\n",
      " [-0.4412386   0.18634349]\n",
      " [-0.4412386  -0.3183368 ]\n",
      " [-0.40306917 -0.04658587]\n",
      " [-0.40306917  0.22516505]\n",
      " [-0.25039146 -0.12422899]\n",
      " [-0.25039146  0.14752193]\n",
      " [-0.25039146  0.10870037]\n",
      " [-0.25039146 -0.08540743]\n",
      " [-0.25039146  0.06987881]\n",
      " [-0.25039146 -0.3183368 ]\n",
      " [-0.25039146  0.03105725]\n",
      " [-0.25039146  0.18634349]\n",
      " [-0.25039146 -0.35715836]\n",
      " [-0.25039146 -0.24069368]\n",
      " [-0.25039146  0.26398661]\n",
      " [-0.25039146 -0.16305055]\n",
      " [-0.13588317  0.30280817]\n",
      " [-0.13588317  0.18634349]\n",
      " [-0.09771374  0.38045129]\n",
      " [-0.09771374 -0.16305055]\n",
      " [-0.05954431  0.18634349]\n",
      " [-0.05954431 -0.35715836]\n",
      " [-0.02137488 -0.04658587]\n",
      " [-0.02137488 -0.39597992]\n",
      " [-0.02137488 -0.3183368 ]\n",
      " [-0.02137488  0.06987881]\n",
      " [-0.02137488 -0.12422899]\n",
      " [-0.02137488 -0.00776431]\n",
      " [ 0.01679455 -0.3183368 ]\n",
      " [ 0.01679455 -0.04658587]\n",
      " [ 0.05496398 -0.35715836]\n",
      " [ 0.05496398 -0.08540743]\n",
      " [ 0.05496398  0.34162973]\n",
      " [ 0.05496398  0.18634349]\n",
      " [ 0.05496398  0.22516505]\n",
      " [ 0.05496398 -0.3183368 ]\n",
      " [ 0.09313341 -0.00776431]\n",
      " [ 0.09313341 -0.16305055]\n",
      " [ 0.09313341 -0.27951524]\n",
      " [ 0.09313341 -0.08540743]\n",
      " [ 0.09313341  0.06987881]\n",
      " [ 0.09313341  0.14752193]\n",
      " [ 0.13130284 -0.3183368 ]\n",
      " [ 0.13130284 -0.16305055]\n",
      " [ 0.16947227 -0.08540743]\n",
      " [ 0.16947227 -0.00776431]\n",
      " [ 0.16947227 -0.27951524]\n",
      " [ 0.16947227  0.34162973]\n",
      " [ 0.24581112 -0.27951524]\n",
      " [ 0.24581112  0.26398661]\n",
      " [ 0.24581112  0.22516505]\n",
      " [ 0.24581112 -0.39597992]\n",
      " [ 0.32214998  0.30280817]\n",
      " [ 0.32214998  1.58391968]\n",
      " [ 0.36031941 -0.82301709]\n",
      " [ 0.36031941  1.04041783]\n",
      " [ 0.39848884 -0.59008772]\n",
      " [ 0.39848884  1.73920592]\n",
      " [ 0.39848884 -1.52180518]\n",
      " [ 0.39848884  0.96277471]\n",
      " [ 0.39848884 -1.5994483 ]\n",
      " [ 0.39848884  0.96277471]\n",
      " [ 0.43665827 -0.62890928]\n",
      " [ 0.43665827  0.80748846]\n",
      " [ 0.4748277  -1.75473454]\n",
      " [ 0.4748277   1.46745499]\n",
      " [ 0.4748277  -1.67709142]\n",
      " [ 0.4748277   0.88513158]\n",
      " [ 0.51299713 -1.56062674]\n",
      " [ 0.51299713  0.84631002]\n",
      " [ 0.55116656 -1.75473454]\n",
      " [ 0.55116656  1.6615628 ]\n",
      " [ 0.58933599 -0.39597992]\n",
      " [ 0.58933599  1.42863343]\n",
      " [ 0.62750542 -1.48298362]\n",
      " [ 0.62750542  1.81684904]\n",
      " [ 0.62750542 -0.55126616]\n",
      " [ 0.62750542  0.92395314]\n",
      " [ 0.66567484 -1.09476801]\n",
      " [ 0.66567484  1.54509812]\n",
      " [ 0.66567484 -1.28887582]\n",
      " [ 0.66567484  1.46745499]\n",
      " [ 0.66567484 -1.17241113]\n",
      " [ 0.66567484  1.00159627]\n",
      " [ 0.66567484 -1.32769738]\n",
      " [ 0.66567484  1.50627656]\n",
      " [ 0.66567484 -1.91002079]\n",
      " [ 0.66567484  1.07923939]\n",
      " [ 0.66567484 -1.91002079]\n",
      " [ 0.66567484  0.88513158]\n",
      " [ 0.70384427 -0.59008772]\n",
      " [ 0.70384427  1.27334719]\n",
      " [ 0.78018313 -1.75473454]\n",
      " [ 0.78018313  1.6615628 ]\n",
      " [ 0.93286085 -0.93948177]\n",
      " [ 0.93286085  0.96277471]\n",
      " [ 0.97103028 -1.17241113]\n",
      " [ 0.97103028  1.73920592]\n",
      " [ 1.00919971 -0.90066021]\n",
      " [ 1.00919971  0.49691598]\n",
      " [ 1.00919971 -1.44416206]\n",
      " [ 1.00919971  0.96277471]\n",
      " [ 1.00919971 -1.56062674]\n",
      " [ 1.00919971  1.62274124]\n",
      " [ 1.04736914 -1.44416206]\n",
      " [ 1.04736914  1.38981187]\n",
      " [ 1.04736914 -1.36651894]\n",
      " [ 1.04736914  0.72984534]\n",
      " [ 1.23821628 -1.4053405 ]\n",
      " [ 1.23821628  1.54509812]\n",
      " [ 1.390894   -0.7065524 ]\n",
      " [ 1.390894    1.38981187]\n",
      " [ 1.42906343 -1.36651894]\n",
      " [ 1.42906343  1.46745499]\n",
      " [ 1.46723286 -0.43480148]\n",
      " [ 1.46723286  1.81684904]\n",
      " [ 1.54357172 -1.01712489]\n",
      " [ 1.54357172  0.69102378]\n",
      " [ 1.61991057 -1.28887582]\n",
      " [ 1.61991057  1.35099031]\n",
      " [ 1.61991057 -1.05594645]\n",
      " [ 1.61991057  0.72984534]\n",
      " [ 2.00160487 -1.63826986]\n",
      " [ 2.00160487  1.58391968]\n",
      " [ 2.26879087 -1.32769738]\n",
      " [ 2.26879087  1.11806095]\n",
      " [ 2.49780745 -0.86183865]\n",
      " [ 2.49780745  0.92395314]\n",
      " [ 2.91767117 -1.25005425]\n",
      " [ 2.91767117  1.27334719]]\n"
     ]
    }
   ],
   "source": [
    "print(scaled_data)"
   ]
  },
  {
   "cell_type": "code",
   "execution_count": 282,
   "id": "332808b4-f4b1-48e1-831e-118796a617ec",
   "metadata": {},
   "outputs": [],
   "source": [
    "from sklearn.cluster import KMeans"
   ]
  },
  {
   "cell_type": "code",
   "execution_count": 284,
   "id": "0a67ead4-6ef9-4b78-81d5-327c3aa44ae0",
   "metadata": {},
   "outputs": [],
   "source": [
    "wcss=[]  #within cluster sum of squares"
   ]
  },
  {
   "cell_type": "code",
   "execution_count": 286,
   "id": "5cd6c4aa-b893-4258-b1c4-2360690a6928",
   "metadata": {},
   "outputs": [],
   "source": [
    "for i in range(1,11):\n",
    "    km=KMeans(n_clusters=i, init=\"k-means++\", random_state=0)\n",
    "    km.fit(X1)\n",
    "    wcss.append(km.inertia_)"
   ]
  },
  {
   "cell_type": "code",
   "execution_count": 288,
   "id": "bece867e-14c7-41f1-90d6-b5f861fffe70",
   "metadata": {},
   "outputs": [
    {
     "data": {
      "image/png": "[encoded data removed]",
      "text/plain": [
       "<Figure size 1200x600 with 1 Axes>"
      ]
     },
     "metadata": {},
     "output_type": "display_data"
    }
   ],
   "source": [
    "#The elbow curve\n",
    "plt.figure(figsize=(12,6))\n",
    "plt.plot(range(1,11),wcss)\n",
    "plt.xlabel(\"No.Of clusters\")\n",
    "plt.ylabel(\"WCSS\")\n",
    "plt.show()"
   ]
  },
  {
   "cell_type": "code",
   "execution_count": 290,
   "id": "09ab4f9e-3f47-4884-bb74-a8da57d3c857",
   "metadata": {},
   "outputs": [],
   "source": [
    "kmeans = KMeans(n_clusters = 5, init=\"k-means++\", random_state=0)"
   ]
  },
  {
   "cell_type": "code",
   "execution_count": 292,
   "id": "0c203316-f341-4d26-bb0f-e000effcc59e",
   "metadata": {},
   "outputs": [
    {
     "data": {
      "text/html": [
       "<div>\n",
       "<style scoped>\n",
       "    .dataframe tbody tr th:only-of-type {\n",
       "        vertical-align: middle;\n",
       "    }\n",
       "\n",
       "    .dataframe tbody tr th {\n",
       "        vertical-align: top;\n",
       "    }\n",
       "\n",
       "    .dataframe thead th {\n",
       "        text-align: right;\n",
       "    }\n",
       "</style>\n",
       "<table border=\"1\" class=\"dataframe\">\n",
       "  <thead>\n",
       "    <tr style=\"text-align: right;\">\n",
       "      <th></th>\n",
       "      <th>CustomerID</th>\n",
       "      <th>Gender</th>\n",
       "      <th>Age</th>\n",
       "      <th>Annual Income (k$)</th>\n",
       "      <th>Spending Score (1-100)</th>\n",
       "      <th>Clusters</th>\n",
       "    </tr>\n",
       "  </thead>\n",
       "  <tbody>\n",
       "    <tr>\n",
       "      <th>0</th>\n",
       "      <td>1</td>\n",
       "      <td>Male</td>\n",
       "      <td>19</td>\n",
       "      <td>15</td>\n",
       "      <td>39</td>\n",
       "      <td>3</td>\n",
       "    </tr>\n",
       "    <tr>\n",
       "      <th>1</th>\n",
       "      <td>2</td>\n",
       "      <td>Male</td>\n",
       "      <td>21</td>\n",
       "      <td>15</td>\n",
       "      <td>81</td>\n",
       "      <td>4</td>\n",
       "    </tr>\n",
       "    <tr>\n",
       "      <th>2</th>\n",
       "      <td>3</td>\n",
       "      <td>Female</td>\n",
       "      <td>20</td>\n",
       "      <td>16</td>\n",
       "      <td>6</td>\n",
       "      <td>3</td>\n",
       "    </tr>\n",
       "    <tr>\n",
       "      <th>3</th>\n",
       "      <td>4</td>\n",
       "      <td>Female</td>\n",
       "      <td>23</td>\n",
       "      <td>16</td>\n",
       "      <td>77</td>\n",
       "      <td>4</td>\n",
       "    </tr>\n",
       "    <tr>\n",
       "      <th>4</th>\n",
       "      <td>5</td>\n",
       "      <td>Female</td>\n",
       "      <td>31</td>\n",
       "      <td>17</td>\n",
       "      <td>40</td>\n",
       "      <td>3</td>\n",
       "    </tr>\n",
       "  </tbody>\n",
       "</table>\n",
       "</div>"
      ],
      "text/plain": [
       "   CustomerID  Gender  Age  Annual Income (k$)  Spending Score (1-100)  \\\n",
       "0           1    Male   19                  15                      39   \n",
       "1           2    Male   21                  15                      81   \n",
       "2           3  Female   20                  16                       6   \n",
       "3           4  Female   23                  16                      77   \n",
       "4           5  Female   31                  17                      40   \n",
       "\n",
       "   Clusters  \n",
       "0         3  \n",
       "1         4  \n",
       "2         3  \n",
       "3         4  \n",
       "4         3  "
      ]
     },
     "execution_count": 292,
     "metadata": {},
     "output_type": "execute_result"
    }
   ],
   "source": [
    "y_kmeans=kmeans.fit_predict(X1)\n",
    "data['Clusters']=y_kmeans\n",
    "data.head()"
   ]
  },
  {
   "cell_type": "code",
   "execution_count": 294,
   "id": "d9c8136b-16a2-469b-adec-ced5944615c2",
   "metadata": {},
   "outputs": [
    {
     "name": "stdout",
     "output_type": "stream",
     "text": [
      "Cluster Centers: [[55.2962963  49.51851852]\n",
      " [86.53846154 82.12820513]\n",
      " [88.2        17.11428571]\n",
      " [26.30434783 20.91304348]\n",
      " [25.72727273 79.36363636]]\n"
     ]
    }
   ],
   "source": [
    "print(\"Cluster Centers:\", kmeans.cluster_centers_)"
   ]
  },
  {
   "cell_type": "code",
   "execution_count": 296,
   "id": "cb087319-1281-41d4-8db0-3b011aab0e44",
   "metadata": {},
   "outputs": [
    {
     "name": "stdout",
     "output_type": "stream",
     "text": [
      "          Annual Income (k$)  Spending Score (1-100)\n",
      "Clusters                                            \n",
      "0                  55.296296               49.518519\n",
      "1                  86.538462               82.128205\n",
      "2                  88.200000               17.114286\n",
      "3                  26.304348               20.913043\n",
      "4                  25.727273               79.363636\n"
     ]
    }
   ],
   "source": [
    "# Group data points by cluster label and calculate the mean of their features\n",
    "cluster_analysis = data.groupby('Clusters')[['Annual Income (k$)', 'Spending Score (1-100)']].mean()\n",
    "print(cluster_analysis)"
   ]
  },
  {
   "cell_type": "code",
   "execution_count": 298,
   "id": "f4da5429-4237-43f4-9cb9-880d7c030cba",
   "metadata": {},
   "outputs": [
    {
     "data": {
      "image/png": "[encoded data removed]",
      "text/plain": [
       "<Figure size 640x480 with 1 Axes>"
      ]
     },
     "metadata": {},
     "output_type": "display_data"
    }
   ],
   "source": [
    "plt.scatter(X1[y_kmeans == 0,0], X1[y_kmeans == 0,1], s=80, c=\"red\", label=\"Customer1\")\n",
    "plt.scatter(X1[y_kmeans == 1,0], X1[y_kmeans == 1,1], s=80, c=\"blue\", label=\"Customer2\")\n",
    "plt.scatter(X1[y_kmeans == 2,0], X1[y_kmeans == 2,1], s=80, c=\"yellow\", label=\"Customer3\")\n",
    "plt.scatter(X1[y_kmeans == 3,0], X1[y_kmeans == 3,1], s=80, c=\"cyan\", label=\"Customer4\")\n",
    "plt.scatter(X1[y_kmeans == 4,0], X1[y_kmeans == 4,1], s=80, c=\"black\", label=\"Customer5\")\n",
    "plt.scatter(kmeans.cluster_centers_[:,0], kmeans.cluster_centers_[:,1], s=100, c='magenta', label=\"Centroids\")\n",
    "plt.title('Clusters of customers')\n",
    "plt.xlabel(\"Annual Income\")\n",
    "plt.ylabel('Spending score')\n",
    "plt.legend()\n",
    "plt.show()"
   ]
  },
  {
   "cell_type": "code",
   "execution_count": 44,
   "id": "b626a4d3-c3ba-4017-b4f0-56ac9a72b8e1",
   "metadata": {},
   "outputs": [
    {
     "data": {
      "text/plain": [
       "array([4])"
      ]
     },
     "execution_count": 44,
     "metadata": {},
     "output_type": "execute_result"
    }
   ],
   "source": [
    "kmeans.predict([[5,89]])"
   ]
  },
  {
   "cell_type": "code",
   "execution_count": 36,
   "id": "7520143d-649a-4536-86e3-a7c2e11c0d7f",
   "metadata": {},
   "outputs": [],
   "source": [
    "import joblib"
   ]
  },
  {
   "cell_type": "code",
   "execution_count": 212,
   "id": "efa1844c-99d7-4e5c-ba71-029851e90afb",
   "metadata": {},
   "outputs": [
    {
     "data": {
      "text/plain": [
       "['finalclustering.pkl']"
      ]
     },
     "execution_count": 212,
     "metadata": {},
     "output_type": "execute_result"
    }
   ],
   "source": [
    "joblib.dump(kmeans, 'finalclustering.pkl')"
   ]
  }
 ],
 "metadata": {
  "kernelspec": {
   "display_name": "Python 3 (ipykernel)",
   "language": "python",
   "name": "python3"
  },
  "language_info": {
   "codemirror_mode": {
    "name": "ipython",
    "version": 3
   },
   "file_extension": ".py",
   "mimetype": "text/x-python",
   "name": "python",
   "nbconvert_exporter": "python",
   "pygments_lexer": "ipython3",
   "version": "3.12.4"
  }
 },
 "nbformat": 4,
 "nbformat_minor": 5
}
